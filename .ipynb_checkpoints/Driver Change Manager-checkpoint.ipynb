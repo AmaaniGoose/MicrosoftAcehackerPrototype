{
 "cells": [
  {
   "cell_type": "markdown",
   "id": "57b3cd67",
   "metadata": {},
   "source": [
    "# Using Hash to identify changes in critical directories"
   ]
  },
  {
   "cell_type": "markdown",
   "id": "c2bb63f4",
   "metadata": {},
   "source": [
    "Stealthy malware can infect a critical directory such as drivers using forged certificates and no one would be much the wiser. This piece of code aims to alert the user if there have been changes in any critical directory, for example drivers\n",
    "so the user can decide if there was an authorized update scheduled. In case there was no update, there's a good change that a malicious driver has made its way on to the victim's computer.  "
   ]
  },
  {
   "cell_type": "markdown",
   "id": "0bd4b7d2",
   "metadata": {},
   "source": [
    "Attribution for utility functions: \n",
    "\n",
    "get_digest() taken from user Mitar @ https://stackoverflow.com/questions/22058048/hashing-a-file-in-python\n",
    "\n",
    "repeated code execution code taken from user Dave Rove @ https://stackoverflow.com/questions/474528/what-is-the-best-way-to-repeatedly-execute-a-function-every-x-seconds\n",
    "\n"
   ]
  },
  {
   "cell_type": "code",
   "execution_count": 2,
   "id": "50bc7680",
   "metadata": {},
   "outputs": [],
   "source": [
    "import hashlib #Importing the hashlib library \n",
    "\n",
    "def get_digest(file_path):  #This function takes a file path and converts it into a hash. Attribution above.\n",
    "    h = hashlib.sha256()\n",
    "\n",
    "    with open(file_path, 'rb') as file:\n",
    "        while True:\n",
    "            # Reading is buffered, so we can read smaller chunks.\n",
    "            chunk = file.read(h.block_size)\n",
    "            if not chunk:\n",
    "                break\n",
    "            h.update(chunk)\n",
    "\n",
    "    return h.hexdigest()"
   ]
  },
  {
   "cell_type": "code",
   "execution_count": 3,
   "id": "d55838e1",
   "metadata": {},
   "outputs": [
    {
     "name": "stdout",
     "output_type": "stream",
     "text": [
      "Hash of file: drivers_test/driver.txt is 666c6b5281657a2167439a1e3d994fdb86a71becd3e34f65296f91e70b4b9e0b\n",
      "0\n",
      "Hash of file: drivers_test/driver.txt is 666c6b5281657a2167439a1e3d994fdb86a71becd3e34f65296f91e70b4b9e0b\n",
      "1\n",
      "Hash of file: drivers_test/driver.txt is 666c6b5281657a2167439a1e3d994fdb86a71becd3e34f65296f91e70b4b9e0b\n",
      "2\n",
      "Hash of file: drivers_test/driver.txt is 666c6b5281657a2167439a1e3d994fdb86a71becd3e34f65296f91e70b4b9e0b\n",
      "3\n",
      "Hash of file: drivers_test/driver.txt is 666c6b5281657a2167439a1e3d994fdb86a71becd3e34f65296f91e70b4b9e0b\n",
      "4\n",
      "Hash of file: drivers_test/driver.txt is 666c6b5281657a2167439a1e3d994fdb86a71becd3e34f65296f91e70b4b9e0b\n",
      "5\n",
      "Hash of file: drivers_test/driver.txt is 666c6b5281657a2167439a1e3d994fdb86a71becd3e34f65296f91e70b4b9e0b\n",
      "6\n",
      "Hash of file: drivers_test/driver.txt is 666c6b5281657a2167439a1e3d994fdb86a71becd3e34f65296f91e70b4b9e0b\n",
      "7\n",
      "Hash of file: drivers_test/driver.txt is 666c6b5281657a2167439a1e3d994fdb86a71becd3e34f65296f91e70b4b9e0b\n",
      "8\n",
      "Hash of file: drivers_test/driver.txt is 666c6b5281657a2167439a1e3d994fdb86a71becd3e34f65296f91e70b4b9e0b\n",
      "9\n",
      "Hash of file: drivers_test/driver.txt is adba192d82cb99b84bfa5ad99217129016759d5203684e7fc16a01c624891c25\n",
      "10\n",
      "Change in drivers detected. Was an authorized update scheduled? \n"
     ]
    }
   ],
   "source": [
    "import time    # Time library \n",
    "starttime = time.time()\n",
    "hash_list = [] # Stores the current and the previous hashes in order to ascertain where a file was changed. \n",
    "               # Can be cleared at periodic intervals to prevent it from taking extra space. \n",
    "i=-1           # Counter variable\n",
    "while True:\n",
    "    file_path = 'drivers_test/driver.txt' # Path to file\n",
    "    file_hash=get_digest(file_path)       # Hash of file\n",
    "    print(f\"Hash of file: {file_path} is {file_hash}\") #For demonstration\n",
    "    hash_list.append(file_hash) #Storing current hash in list\n",
    "    i+=1 #Update counter\n",
    "    print(i) #Display counter\n",
    "    if(len(hash_list)<2): #For the first two hashes before comparison starts. \n",
    "        continue            \n",
    "    else:\n",
    "        if(hash_list[i]!=hash_list[i-1]):           \n",
    "            print(\"Change in drivers detected. Was an authorized update scheduled? \") #Alerts if hashes of current and previous file don't match\n",
    "            break\n",
    "        else:\n",
    "            time.sleep(1.0 - ((time.time() - starttime) % 1.0)) #If they match, the function repeats itself after 1 second delay. This\n",
    "                                                                # value can be adjusted based on time. Attributed above. \n",
    "\n"
   ]
  },
  {
   "cell_type": "markdown",
   "id": "12932e3d",
   "metadata": {},
   "source": [
    "### End of File\n",
    "\n"
   ]
  }
 ],
 "metadata": {
  "kernelspec": {
   "display_name": "Python 3 (ipykernel)",
   "language": "python",
   "name": "python3"
  },
  "language_info": {
   "codemirror_mode": {
    "name": "ipython",
    "version": 3
   },
   "file_extension": ".py",
   "mimetype": "text/x-python",
   "name": "python",
   "nbconvert_exporter": "python",
   "pygments_lexer": "ipython3",
   "version": "3.7.11"
  }
 },
 "nbformat": 4,
 "nbformat_minor": 5
}
