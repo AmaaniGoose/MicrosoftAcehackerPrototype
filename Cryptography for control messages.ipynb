{
 "cells": [
  {
   "cell_type": "markdown",
   "id": "9dd7fca0",
   "metadata": {},
   "source": [
    "# Cryptographically securing control messages"
   ]
  },
  {
   "cell_type": "markdown",
   "id": "7893126e",
   "metadata": {},
   "source": [
    "Control message hijacking and faking is a major concern in the protection of ICS. To resolve this problem two cryptographic solutions have been suggested. \n",
    "\n",
    "The first and most direct being encyrption/decryption and the other being comparing message hashes with an added secret. "
   ]
  },
  {
   "cell_type": "markdown",
   "id": "3f619807",
   "metadata": {},
   "source": [
    "## Encryption and Decryption "
   ]
  },
  {
   "cell_type": "markdown",
   "id": "0fd598ee",
   "metadata": {},
   "source": [
    "We shall be using the open source fernet library that is part of the cryptography package. "
   ]
  },
  {
   "cell_type": "code",
   "execution_count": 13,
   "id": "162461dc",
   "metadata": {},
   "outputs": [],
   "source": [
    "from cryptography.fernet import Fernet #Importing the library \n",
    "\n",
    "key = Fernet.generate_key() # A key is generated that will be used for both encryption and decryption. Typically fernet \n",
    "                            # creates keys with higher entropy so we are using that here. This key shall be secure between\n",
    "                            # the PLC and the controller."
   ]
  },
  {
   "cell_type": "code",
   "execution_count": 14,
   "id": "f84e2bcd",
   "metadata": {},
   "outputs": [],
   "source": [
    "fernet = Fernet(key) # Here we initialize the fernet class with the generated key"
   ]
  },
  {
   "cell_type": "code",
   "execution_count": 15,
   "id": "f0513acb",
   "metadata": {},
   "outputs": [
    {
     "name": "stdout",
     "output_type": "stream",
     "text": [
      "Enter the control message to be sent: TEMP = 500K\n",
      "Original message:  TEMP = 500K\n",
      "Encrypted message:  b'gAAAAABiskKGDYpVHsPU8eeT6XeLW11u90wyrQlprV5yBTdsaciQ9hIV16t5j9k2zpanwV9WHbmK5wX-ECQvzEDGz65J5y-sKQ=='\n",
      "Decrypted message:  TEMP = 500K\n"
     ]
    }
   ],
   "source": [
    "plc_message = input(\"Enter the control message to be sent: \") # For demonstration only.\n",
    "\n",
    "encrypted_plc_message = fernet.encrypt(plc_message.encode()) # Encryption\n",
    "\n",
    "print(\"Original message: \", plc_message) #Original message for demonstration \n",
    "\n",
    "print(\"Encrypted message: \", encrypted_plc_message) #Encrypted message for demonstration \n",
    "\n",
    "decrypted_plc_message = fernet.decrypt(encrypted_plc_message).decode() #We decrypt the encrypted message from the PLC\n",
    " \n",
    "print(\"Decrypted message: \", decrypted_plc_message) #Printing the decrypted message for demonstration"
   ]
  },
  {
   "cell_type": "markdown",
   "id": "30ddf7de",
   "metadata": {},
   "source": [
    "This method is relatively secure since anyone trying to create a fernet instance without knowing the key would be unable to decrypt the control messages or send their own encrypted messages. Moreover, a unique key can be created for every message"
   ]
  },
  {
   "cell_type": "markdown",
   "id": "cd56800b",
   "metadata": {},
   "source": [
    "## Hashing"
   ]
  },
  {
   "cell_type": "markdown",
   "id": "59cf2206",
   "metadata": {},
   "source": [
    "We shall be using the hashlib library to compare the hashes of the sent messages with the received ones. "
   ]
  },
  {
   "cell_type": "code",
   "execution_count": 20,
   "id": "cc3efb3f",
   "metadata": {},
   "outputs": [],
   "source": [
    "import hashlib #Importing the hashing library\n",
    "\n",
    "def hash_message(message):\n",
    "    sha_signature = hashlib.sha512(message.encode()).hexdigest() # Converts the string to a 512 hash and presents it in a readable form                                                                # a readable manner using hexdigest\n",
    "    return sha_signature\n"
   ]
  },
  {
   "cell_type": "code",
   "execution_count": 21,
   "id": "3ce99939",
   "metadata": {},
   "outputs": [],
   "source": [
    "import secrets\n",
    "secret = secrets.token_urlsafe(16) # Generating secret for secure communication of the hash. Only known to PLC and controller"
   ]
  },
  {
   "cell_type": "code",
   "execution_count": 22,
   "id": "d3d7a238",
   "metadata": {},
   "outputs": [
    {
     "name": "stdout",
     "output_type": "stream",
     "text": [
      "TEMP = 200K\n",
      "Secure Control message:  TEMP = 200KZU8eC6XSFQpwmaI3ne7WVQ\n",
      "Hashed control message:  5dbe3ed03bdef42e1d414943175839c5ca8cec8663c543b4a096f0e6cc93e24793f2472cbd695064d423662bb7e73a1a37c959aca8b8d31575c411091815c445\n",
      "{'control_message': 'TEMP = 200K', 'hash': '5dbe3ed03bdef42e1d414943175839c5ca8cec8663c543b4a096f0e6cc93e24793f2472cbd695064d423662bb7e73a1a37c959aca8b8d31575c411091815c445'}\n"
     ]
    }
   ],
   "source": [
    "control_message = input() # Message for demonstration. \n",
    "secure_control_message = control_message + secret\n",
    "hashed_control_message = hash_message(secure_control_message) #Hashes the given control message with added secret\n",
    "\n",
    "print(\"Secure Control message: \" , secure_control_message) #For demonstration\n",
    "print(\"Hashed control message: \" ,hashed_control_message) #For demonstartion\n",
    "\n",
    "transmitted_control_message = { 'control_message' : control_message, 'hash':hashed_control_message}\n",
    "print(transmitted_control_message)"
   ]
  },
  {
   "cell_type": "code",
   "execution_count": 23,
   "id": "50fc7e81",
   "metadata": {},
   "outputs": [
    {
     "name": "stdout",
     "output_type": "stream",
     "text": [
      "Received message: TEMP = 200K, Message transmitted and authenticated\n"
     ]
    }
   ],
   "source": [
    "## On the controller end after transmission through secured channel\n",
    "\n",
    "received_message = transmitted_control_message['control_message'] # Extracts control message from the transmission\n",
    "secure_received_message = received_message + secret # Adds the secret to the received message\n",
    " \n",
    "hashed_received_message = hash_message(secure_received_message) #Hashes the received message on the controller side\n",
    "\n",
    "if(hashed_received_message == transmitted_control_message['hash'] ):                      #If the hash of the transmitted message + secret match the hash\n",
    "    print(f\"Received message: {received_message}, Message transmitted and authenticated\") # of received message + secret we know that the message has been authenticated\n",
    "else:                                                                   \n",
    "    print(\"Red Flag. Data modified. Cyberattack alert\") \n",
    "\n",
    "\n"
   ]
  },
  {
   "cell_type": "markdown",
   "id": "739c79dc",
   "metadata": {},
   "source": [
    "### End of File"
   ]
  }
 ],
 "metadata": {
  "kernelspec": {
   "display_name": "Python 3 (ipykernel)",
   "language": "python",
   "name": "python3"
  },
  "language_info": {
   "codemirror_mode": {
    "name": "ipython",
    "version": 3
   },
   "file_extension": ".py",
   "mimetype": "text/x-python",
   "name": "python",
   "nbconvert_exporter": "python",
   "pygments_lexer": "ipython3",
   "version": "3.7.11"
  }
 },
 "nbformat": 4,
 "nbformat_minor": 5
}
